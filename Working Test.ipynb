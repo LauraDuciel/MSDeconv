{
 "cells": [
  {
   "cell_type": "markdown",
   "metadata": {
    "toc": true
   },
   "source": [
    "<h1>Table of Contents<span class=\"tocSkip\"></span></h1>\n",
    "<div class=\"toc\"><ul class=\"toc-item\"><li><span><a href=\"#Working-Test---End-of-5-weeks-Project\" data-toc-modified-id=\"Working-Test---End-of-5-weeks-Project-1\"><span class=\"toc-item-num\">1&nbsp;&nbsp;</span>Working Test - End of 5 weeks Project</a></span><ul class=\"toc-item\"><li><span><a href=\"#Imports\" data-toc-modified-id=\"Imports-1.1\"><span class=\"toc-item-num\">1.1&nbsp;&nbsp;</span>Imports</a></span></li><li><span><a href=\"#Loading-dataset\" data-toc-modified-id=\"Loading-dataset-1.2\"><span class=\"toc-item-num\">1.2&nbsp;&nbsp;</span>Loading dataset</a></span></li><li><span><a href=\"#Cutting-into-small-pieces\" data-toc-modified-id=\"Cutting-into-small-pieces-1.3\"><span class=\"toc-item-num\">1.3&nbsp;&nbsp;</span>Cutting into small pieces</a></span></li><li><span><a href=\"#Analysis-of-one-small-piece\" data-toc-modified-id=\"Analysis-of-one-small-piece-1.4\"><span class=\"toc-item-num\">1.4&nbsp;&nbsp;</span>Analysis of one small piece</a></span><ul class=\"toc-item\"><li><span><a href=\"#Display-of-the-chosen-chunk\" data-toc-modified-id=\"Display-of-the-chosen-chunk-1.4.1\"><span class=\"toc-item-num\">1.4.1&nbsp;&nbsp;</span>Display of the chosen chunk</a></span></li><li><span><a href=\"#Optimization-of-deconvolution-parameters\" data-toc-modified-id=\"Optimization-of-deconvolution-parameters-1.4.2\"><span class=\"toc-item-num\">1.4.2&nbsp;&nbsp;</span>Optimization of deconvolution parameters</a></span></li><li><span><a href=\"#Deconvolution-over-the-chunk\" data-toc-modified-id=\"Deconvolution-over-the-chunk-1.4.3\"><span class=\"toc-item-num\">1.4.3&nbsp;&nbsp;</span>Deconvolution over the chunk</a></span></li><li><span><a href=\"#Storing-and-retrieving-the-results\" data-toc-modified-id=\"Storing-and-retrieving-the-results-1.4.4\"><span class=\"toc-item-num\">1.4.4&nbsp;&nbsp;</span>Storing and retrieving the results</a></span></li><li><span><a href=\"#Displaying-the-results-of-deconvolution\" data-toc-modified-id=\"Displaying-the-results-of-deconvolution-1.4.5\"><span class=\"toc-item-num\">1.4.5&nbsp;&nbsp;</span>Displaying the results of deconvolution</a></span></li><li><span><a href=\"#Peak-Picking\" data-toc-modified-id=\"Peak-Picking-1.4.6\"><span class=\"toc-item-num\">1.4.6&nbsp;&nbsp;</span>Peak Picking</a></span></li></ul></li><li><span><a href=\"#Deconvolution-over-multiple-chunks-(and-the-whole-2D)\" data-toc-modified-id=\"Deconvolution-over-multiple-chunks-(and-the-whole-2D)-1.5\"><span class=\"toc-item-num\">1.5&nbsp;&nbsp;</span>Deconvolution over multiple chunks (and the whole 2D)</a></span></li></ul></li></ul></div>"
   ]
  },
  {
   "cell_type": "markdown",
   "metadata": {},
   "source": [
    "# Working Test - End of 5 weeks Project"
   ]
  },
  {
   "cell_type": "markdown",
   "metadata": {},
   "source": [
    "## Imports"
   ]
  },
  {
   "cell_type": "code",
   "execution_count": null,
   "metadata": {
    "ExecuteTime": {
     "end_time": "2019-05-29T13:22:19.616123Z",
     "start_time": "2019-05-29T13:22:19.611649Z"
    }
   },
   "outputs": [],
   "source": [
    "from __future__ import print_function\n",
    "from __future__ import division"
   ]
  },
  {
   "cell_type": "raw",
   "metadata": {
    "ExecuteTime": {
     "end_time": "2019-05-07T08:03:17.249224Z",
     "start_time": "2019-05-07T08:03:14.785857Z"
    }
   },
   "source": [
    "%matplotlib notebook\n",
    "from spike.Interactive.FTICR_INTER import MR, MR_interact"
   ]
  },
  {
   "cell_type": "code",
   "execution_count": null,
   "metadata": {
    "ExecuteTime": {
     "end_time": "2019-05-29T13:22:21.877189Z",
     "start_time": "2019-05-29T13:22:21.872779Z"
    }
   },
   "outputs": [],
   "source": [
    "from bokeh.io import show,output_notebook"
   ]
  },
  {
   "cell_type": "code",
   "execution_count": null,
   "metadata": {
    "ExecuteTime": {
     "end_time": "2019-05-29T13:22:22.315151Z",
     "start_time": "2019-05-29T13:22:22.302999Z"
    }
   },
   "outputs": [],
   "source": [
    "output_notebook()"
   ]
  },
  {
   "cell_type": "code",
   "execution_count": null,
   "metadata": {
    "ExecuteTime": {
     "end_time": "2019-05-29T13:22:22.855139Z",
     "start_time": "2019-05-29T13:22:22.853091Z"
    }
   },
   "outputs": [],
   "source": [
    "try:\n",
    "    from importlib import reload  # python 3\n",
    "except:\n",
    "    pass # python 2"
   ]
  },
  {
   "cell_type": "code",
   "execution_count": null,
   "metadata": {
    "ExecuteTime": {
     "end_time": "2019-05-29T13:22:23.432303Z",
     "start_time": "2019-05-29T13:22:23.429615Z"
    }
   },
   "outputs": [],
   "source": [
    "#import sys\n",
    "#sys.path.append('/media/laura/5EA17E12330867F6/Work/1st Internship/')\n",
    "import spike"
   ]
  },
  {
   "cell_type": "code",
   "execution_count": null,
   "metadata": {
    "ExecuteTime": {
     "end_time": "2019-05-29T13:22:25.246633Z",
     "start_time": "2019-05-29T13:22:25.244555Z"
    }
   },
   "outputs": [],
   "source": [
    "from spike import FTICR"
   ]
  },
  {
   "cell_type": "code",
   "execution_count": null,
   "metadata": {
    "ExecuteTime": {
     "end_time": "2019-05-27T11:08:52.906351Z",
     "start_time": "2019-05-27T11:08:52.901841Z"
    }
   },
   "outputs": [],
   "source": [
    "%matplotlib notebook"
   ]
  },
  {
   "cell_type": "code",
   "execution_count": null,
   "metadata": {
    "ExecuteTime": {
     "end_time": "2019-05-29T13:22:30.008400Z",
     "start_time": "2019-05-29T13:22:29.999648Z"
    }
   },
   "outputs": [],
   "source": [
    "import sys\n",
    "sys.path.append('/home/laura/Desktop/isotopic-deconv-basic-code')\n",
    "import os\n",
    "try:\n",
    "    from importlib import reload\n",
    "except:\n",
    "    pass\n",
    "import numpy as np\n",
    "import scipy\n",
    "from scipy.signal import fftconvolve\n",
    "import matplotlib.mlab as mlab\n",
    "from isotope import isotopes as iso\n",
    "iso.THRESHOLD = 1E-5 # devrait être 1E-5 ! mais plus rapide\n",
    "from isotope.proteins import averagine\n",
    "from isotope import Fstore\n",
    "import Deconvolution_fast as dec\n",
    "reload(dec)\n",
    "import isotopic_analysis as ia\n",
    "reload(ia)\n",
    "import tools_2DFTICR_Data as tools2D\n",
    "reload(tools2D)\n",
    "import PDS\n",
    "from mpl_toolkits.mplot3d import Axes3D\n",
    "from matplotlib import cm\n",
    "from scipy.optimize import curve_fit\n",
    "import numpy as np\n",
    "from matplotlib import pyplot as plt"
   ]
  },
  {
   "cell_type": "code",
   "execution_count": null,
   "metadata": {
    "ExecuteTime": {
     "end_time": "2019-05-27T14:24:15.516243Z",
     "start_time": "2019-05-27T14:24:15.513748Z"
    }
   },
   "outputs": [],
   "source": [
    "reload(ia)\n",
    "dec.standard = False"
   ]
  },
  {
   "cell_type": "code",
   "execution_count": null,
   "metadata": {
    "ExecuteTime": {
     "end_time": "2019-05-27T14:24:15.750361Z",
     "start_time": "2019-05-27T14:24:15.745416Z"
    }
   },
   "outputs": [],
   "source": [
    "reload(dec)"
   ]
  },
  {
   "cell_type": "code",
   "execution_count": null,
   "metadata": {
    "ExecuteTime": {
     "end_time": "2019-05-29T13:22:35.471728Z",
     "start_time": "2019-05-29T13:22:35.466975Z"
    }
   },
   "outputs": [],
   "source": [
    "dec.memoize_clear()"
   ]
  },
  {
   "cell_type": "markdown",
   "metadata": {},
   "source": [
    "## Loading dataset"
   ]
  },
  {
   "cell_type": "code",
   "execution_count": null,
   "metadata": {
    "ExecuteTime": {
     "end_time": "2019-05-29T13:22:36.553430Z",
     "start_time": "2019-05-29T13:22:36.551315Z"
    }
   },
   "outputs": [],
   "source": [
    "data_name = \"/home/laura/Desktop/isotopic-deconv-basic-code_local/Data/yeast_2D_000002_dn200_mr.msh5\""
   ]
  },
  {
   "cell_type": "markdown",
   "metadata": {},
   "source": [
    "To see the entire spectrum in a low resolution"
   ]
  },
  {
   "cell_type": "raw",
   "metadata": {
    "ExecuteTime": {
     "end_time": "2019-04-29T14:48:26.889079Z",
     "start_time": "2019-04-29T14:48:22.369552Z"
    },
    "scrolled": false
   },
   "source": [
    "from spike.File.HDF5File import HDF5File\n",
    "H = HDF5File(data_name,'r')\n",
    "H.get_file_infos() #A lot of tools are available to explore the HDF5 loaded file\n",
    "H.load(group=\"resol3\")\n",
    "H.data.unit ='m/z'\n",
    "H.data.display(scale=40, zoom=((329,700),(148,1400))) #zoom=((329,2000),(148,1500)))\n",
    "absmax = H.data.absmax\n",
    "H.close()\n",
    "absmax"
   ]
  },
  {
   "cell_type": "markdown",
   "metadata": {},
   "source": [
    "Importation of data - Complete yeast extract 2D FT-ICR MS Spectrum"
   ]
  },
  {
   "cell_type": "code",
   "execution_count": null,
   "metadata": {
    "ExecuteTime": {
     "end_time": "2019-05-29T13:22:37.958395Z",
     "start_time": "2019-05-29T13:22:37.946853Z"
    }
   },
   "outputs": [],
   "source": [
    "d = FTICR.FTICRData(name=data_name, mode=\"onfile\") #Mode onfile avoid taking too much space on the computer memory"
   ]
  },
  {
   "cell_type": "code",
   "execution_count": null,
   "metadata": {
    "ExecuteTime": {
     "end_time": "2019-05-29T13:22:40.628068Z",
     "start_time": "2019-05-29T13:22:40.625930Z"
    }
   },
   "outputs": [],
   "source": [
    "d._absmax = 76601098.15623298"
   ]
  },
  {
   "cell_type": "markdown",
   "metadata": {},
   "source": [
    "## Cutting into small pieces"
   ]
  },
  {
   "cell_type": "markdown",
   "metadata": {},
   "source": [
    "Creation of all parts from this spectrum - Each part is 1024x256 points sized. The coordinates are contained in Tabl."
   ]
  },
  {
   "cell_type": "code",
   "execution_count": null,
   "metadata": {
    "ExecuteTime": {
     "end_time": "2019-05-29T13:22:52.242203Z",
     "start_time": "2019-05-29T13:22:52.234841Z"
    }
   },
   "outputs": [],
   "source": [
    "Tabl = tools2D.pieceofdata(d,3*1024,256)"
   ]
  },
  {
   "cell_type": "code",
   "execution_count": null,
   "metadata": {
    "ExecuteTime": {
     "end_time": "2019-05-29T13:22:55.966878Z",
     "start_time": "2019-05-29T13:22:55.962367Z"
    }
   },
   "outputs": [],
   "source": [
    "print(len(Tabl)) #To know how many parts need to be deconvoluted"
   ]
  },
  {
   "cell_type": "raw",
   "metadata": {
    "ExecuteTime": {
     "end_time": "2019-05-06T10:17:22.386200Z",
     "start_time": "2019-05-06T10:17:21.569706Z"
    }
   },
   "source": [
    "DI = MR_interact(data_name,\n",
    "                report=False,   # inhibits parameter printing\n",
    "                show=False,     # does not display on start-up\n",
    "                figsize=(20,15),# Size of initial display (in cm)\n",
    "                Debug=False     # Enables live debugging if True\n",
    "               )\n",
    "DI._zoom = (400,700,137,1500)     # set the initial zoom view, in m/z (F1low , F1High , F2low , F2High)\n",
    "DI.scale = 5.0                      # set the initial scale\n",
    "DI.show()     "
   ]
  },
  {
   "cell_type": "code",
   "execution_count": null,
   "metadata": {
    "ExecuteTime": {
     "end_time": "2019-05-29T13:23:03.905610Z",
     "start_time": "2019-05-29T13:23:02.964217Z"
    }
   },
   "outputs": [],
   "source": [
    "for N in range(len(Tabl)):\n",
    "    zoom = list(tools2D.isz(d,Tabl[N]))\n",
    "    Y = [zoom[1],zoom[0],zoom[1],zoom[0]]\n",
    "    X = [zoom[3],zoom[3],zoom[2],zoom[2]]\n",
    "    plt.scatter(X,Y, s=0.5, c=\"red\", alpha=0.5)"
   ]
  },
  {
   "cell_type": "raw",
   "metadata": {
    "ExecuteTime": {
     "start_time": "2019-04-16T10:37:18.668Z"
    },
    "scrolled": false
   },
   "source": [
    "(M,N) = (530,550)\n",
    "for i in range(M,N):\n",
    "    title=\"Chunk\"+str(i)\n",
    "    d.unit='m/z'\n",
    "    d.display(zoom=tools2D.isz(d,Tabl[i]),scale = 0.4, title=title)"
   ]
  },
  {
   "cell_type": "markdown",
   "metadata": {},
   "source": [
    "The analysis will then be performed on only one part from the previous Tabl. Only to demonstrate that it works for one part and that the next step is only to loop over all parts."
   ]
  },
  {
   "cell_type": "markdown",
   "metadata": {},
   "source": [
    "## Analysis of one small piece"
   ]
  },
  {
   "cell_type": "markdown",
   "metadata": {},
   "source": [
    "Chosen part : Tabl[N]"
   ]
  },
  {
   "cell_type": "markdown",
   "metadata": {},
   "source": [
    "### Display of the chosen chunk"
   ]
  },
  {
   "cell_type": "code",
   "execution_count": null,
   "metadata": {
    "ExecuteTime": {
     "end_time": "2019-05-29T13:25:06.455420Z",
     "start_time": "2019-05-29T13:25:06.453221Z"
    }
   },
   "outputs": [],
   "source": [
    "N = 5\n",
    "zoom = Tabl[N]"
   ]
  },
  {
   "cell_type": "code",
   "execution_count": null,
   "metadata": {
    "ExecuteTime": {
     "end_time": "2019-05-29T13:25:48.364967Z",
     "start_time": "2019-05-29T13:25:48.095972Z"
    }
   },
   "outputs": [],
   "source": [
    "d.unit = 'm/z' #To make sure we work in points\n",
    "d.display(scale=25, zoom=tools2D.isz(d,zoom))"
   ]
  },
  {
   "cell_type": "code",
   "execution_count": null,
   "metadata": {
    "ExecuteTime": {
     "end_time": "2019-05-07T14:18:04.017172Z",
     "start_time": "2019-05-07T14:18:04.013697Z"
    }
   },
   "outputs": [],
   "source": [
    "zoom_mz = tools2D.isz(d,zoom)"
   ]
  },
  {
   "cell_type": "code",
   "execution_count": null,
   "metadata": {
    "ExecuteTime": {
     "end_time": "2019-05-07T14:20:56.311154Z",
     "start_time": "2019-05-07T14:20:56.308284Z"
    }
   },
   "outputs": [],
   "source": [
    "zoom_mz_safe = [zoom_mz[0]+2,zoom_mz[1]-2,zoom_mz[2]+2,zoom_mz[3]-2]"
   ]
  },
  {
   "cell_type": "code",
   "execution_count": null,
   "metadata": {
    "ExecuteTime": {
     "end_time": "2019-05-07T14:23:07.667247Z",
     "start_time": "2019-05-07T14:23:07.662998Z"
    }
   },
   "outputs": [],
   "source": [
    "zoom_safe = list(tools2D.mztoi(d,zoom_mz_safe))"
   ]
  },
  {
   "cell_type": "code",
   "execution_count": null,
   "metadata": {
    "ExecuteTime": {
     "end_time": "2019-05-07T14:23:14.216477Z",
     "start_time": "2019-05-07T14:23:14.213679Z"
    }
   },
   "outputs": [],
   "source": [
    "print(zoom,list(zoom_mz),zoom_mz_safe,zoom_safe)"
   ]
  },
  {
   "cell_type": "code",
   "execution_count": null,
   "metadata": {
    "ExecuteTime": {
     "end_time": "2019-05-07T14:04:46.163657Z",
     "start_time": "2019-05-07T14:04:45.756280Z"
    }
   },
   "outputs": [],
   "source": [
    "d.unit = 'points' #To make sure we work in points\n",
    "d.display(scale=5, zoom=zoom)"
   ]
  },
  {
   "cell_type": "code",
   "execution_count": null,
   "metadata": {
    "ExecuteTime": {
     "end_time": "2019-05-07T14:04:46.706348Z",
     "start_time": "2019-05-07T14:04:46.419888Z"
    },
    "scrolled": false
   },
   "outputs": [],
   "source": [
    "d.unit='m/z'\n",
    "d.bokeh(zoom=tools2D.isz(d,zoom),scale = 0.4, show=True)"
   ]
  },
  {
   "cell_type": "markdown",
   "metadata": {},
   "source": [
    "### Optimization of deconvolution parameters"
   ]
  },
  {
   "cell_type": "code",
   "execution_count": null,
   "metadata": {},
   "outputs": [],
   "source": []
  },
  {
   "cell_type": "code",
   "execution_count": null,
   "metadata": {
    "ExecuteTime": {
     "end_time": "2019-05-29T14:17:59.314782Z",
     "start_time": "2019-05-29T13:26:36.445253Z"
    }
   },
   "outputs": [],
   "source": [
    "#Boucle pour voir évolution khi2 et maxres en fonction des valeurs de width1 width2\n",
    "khi2 = []\n",
    "maxres = []\n",
    "coord = []\n",
    "import numpy as np\n",
    "Width1 = [i for i in np.arange(0.8,3.0,0.4)]\n",
    "Width2 = [i for i in np.arange(0.0,0.2,0.04)]\n",
    "for i in Width1:\n",
    "    for j in Width2:\n",
    "        result = tools2D.analysis(d,zoom, width2=j, width1=i)\n",
    "        \n",
    "        khi2 += [np.sqrt(result.Khi2)]\n",
    "        maxres += [result.result.max()]\n",
    "        w1,w2,k = i, j, np.sqrt(result.Khi2)\n",
    "        coord.append([w1,w2,k])\n",
    "        print (coord)"
   ]
  },
  {
   "cell_type": "code",
   "execution_count": null,
   "metadata": {
    "ExecuteTime": {
     "end_time": "2019-05-29T14:17:59.326377Z",
     "start_time": "2019-05-29T13:26:38.101Z"
    }
   },
   "outputs": [],
   "source": [
    "#Affichage sqrt(khi2) en fonction de width1 width2\n",
    "X = []\n",
    "Y = []\n",
    "Z = []\n",
    "for n in coord:\n",
    "    X.append(n[0])\n",
    "    Y.append(n[1])\n",
    "    Z.append(n[2])\n",
    "plt.gca(projection='3d').plot(X,Y,Z,'--oc')\n",
    "plt.xlabel('Width1')\n",
    "plt.ylabel('Width2')"
   ]
  },
  {
   "cell_type": "code",
   "execution_count": null,
   "metadata": {
    "ExecuteTime": {
     "end_time": "2019-05-29T14:17:59.334379Z",
     "start_time": "2019-05-29T13:26:38.796Z"
    }
   },
   "outputs": [],
   "source": [
    "#Affichage contourf khi2 \n",
    "Z = np.array(Z)\n",
    "Z = Z.reshape((len(Width1), len(Width2)))\n",
    "X, Y = np.meshgrid(Width2,Width1)\n",
    "CS = plt.contourf(X, Y, Z)\n",
    "plt.xlabel('Width2')\n",
    "plt.ylabel('Width1')\n",
    "cbar = plt.colorbar(CS)\n",
    "cbar.ax.set_ylabel('sqrt(khi2)')"
   ]
  },
  {
   "cell_type": "code",
   "execution_count": null,
   "metadata": {
    "ExecuteTime": {
     "end_time": "2019-05-29T14:17:59.342054Z",
     "start_time": "2019-05-29T13:26:40.116Z"
    }
   },
   "outputs": [],
   "source": [
    "#Affichage contourf maxres\n",
    "b = np.array(maxres)\n",
    "b = b.reshape((len(Width1), len(Width2)))\n",
    "X, Y = np.meshgrid(Width2,Width1)\n",
    "CS2=plt.contourf(X, Y, b)\n",
    "plt.xlabel('Width2')\n",
    "plt.ylabel('Width1')\n",
    "cbar = plt.colorbar(CS2)\n",
    "cbar.ax.set_ylabel('MaxRes')"
   ]
  },
  {
   "cell_type": "code",
   "execution_count": null,
   "metadata": {
    "ExecuteTime": {
     "end_time": "2019-05-29T14:17:59.350402Z",
     "start_time": "2019-05-29T13:26:40.493Z"
    }
   },
   "outputs": [],
   "source": [
    "#Affichage maxres en fonction de width1 width2\n",
    "X = []\n",
    "Y = []\n",
    "for n in coord:\n",
    "    X.append(n[0])\n",
    "    Y.append(n[1])\n",
    "plt.gca(projection='3d').plot(X,Y,maxres,'--ob')\n",
    "plt.xlabel('Width1')\n",
    "plt.ylabel('Width2')"
   ]
  },
  {
   "cell_type": "code",
   "execution_count": null,
   "metadata": {
    "ExecuteTime": {
     "end_time": "2019-05-29T14:17:59.358085Z",
     "start_time": "2019-05-29T13:26:41.222Z"
    }
   },
   "outputs": [],
   "source": [
    "#Affichage de sqrt(khi2) en fonction de maxres\n",
    "Z = []\n",
    "for n in coord:\n",
    "    Z.append(n[2])\n",
    "plt.plot(Z,maxres,'*')\n",
    "plt.xlabel('Sqrt(khi2)')\n",
    "plt.ylabel('MaxRes')"
   ]
  },
  {
   "cell_type": "code",
   "execution_count": null,
   "metadata": {
    "ExecuteTime": {
     "end_time": "2019-05-29T14:17:59.365934Z",
     "start_time": "2019-05-29T13:26:41.781Z"
    }
   },
   "outputs": [],
   "source": [
    "#Boucle pour voir évolution khi2 et maxres en fonction des valeurs de noisefactor\n",
    "khi2 = []\n",
    "maxres = []\n",
    "coord = []\n",
    "import numpy as np\n",
    "for i in np.arange(0.1,10.5,0.4):\n",
    "        result = tools2D.analysis(d,[3584, 3840, 51691, 52715], noisefactor = i, width2=0.1, width1=1.4)\n",
    "        khi2 += [np.sqrt(result.Khi2)]\n",
    "        maxres += [result.result.max()]\n",
    "        noisefact,k = i, np.sqrt(result.Khi2)\n",
    "        coord.append([noisefact,k])\n",
    "        print (coord)"
   ]
  },
  {
   "cell_type": "code",
   "execution_count": null,
   "metadata": {
    "ExecuteTime": {
     "end_time": "2019-05-29T14:17:59.373501Z",
     "start_time": "2019-05-29T13:26:42.724Z"
    }
   },
   "outputs": [],
   "source": [
    "noisefact = []\n",
    "k = []\n",
    "for n in coord:\n",
    "    noisefact.append(n[0])\n",
    "    k.append(n[1])\n",
    "plt.plot(noisefact,k,'--c.',)\n",
    "plt.xlabel('NoiseFactor')\n",
    "plt.ylabel('Sqrt(khi2)')"
   ]
  },
  {
   "cell_type": "code",
   "execution_count": null,
   "metadata": {
    "ExecuteTime": {
     "end_time": "2019-05-29T14:17:59.381126Z",
     "start_time": "2019-05-29T13:26:43.669Z"
    }
   },
   "outputs": [],
   "source": [
    "plt.plot(noisefact,maxres,'--g.',)\n",
    "plt.xlabel('NoiseFactor')\n",
    "plt.ylabel('maxres')\n",
    "axes = plt.gca()\n",
    "axes.yaxis.set_label_position('right')\n",
    "axes.yaxis.set_ticks_position('right')"
   ]
  },
  {
   "cell_type": "markdown",
   "metadata": {},
   "source": [
    "### Deconvolution over the chunk"
   ]
  },
  {
   "cell_type": "code",
   "execution_count": null,
   "metadata": {
    "ExecuteTime": {
     "end_time": "2019-05-02T15:06:17.271648Z",
     "start_time": "2019-05-02T15:06:17.191089Z"
    }
   },
   "outputs": [],
   "source": [
    "reload(tools2D)\n",
    "reload(dec)"
   ]
  },
  {
   "cell_type": "code",
   "execution_count": null,
   "metadata": {
    "ExecuteTime": {
     "end_time": "2019-05-02T13:48:36.584761Z",
     "start_time": "2019-05-02T13:48:36.538237Z"
    }
   },
   "outputs": [],
   "source": [
    "%load_ext memory_profiler"
   ]
  },
  {
   "cell_type": "code",
   "execution_count": null,
   "metadata": {
    "ExecuteTime": {
     "end_time": "2019-05-15T09:43:42.868382Z",
     "start_time": "2019-05-15T09:40:54.127287Z"
    },
    "scrolled": false
   },
   "outputs": [],
   "source": [
    "d.unit='points'\n",
    "%time S = tools2D.analysis(d,zoom,width1=2.0,width2=0.04, noisefactor=0.9)"
   ]
  },
  {
   "cell_type": "code",
   "execution_count": null,
   "metadata": {
    "ExecuteTime": {
     "end_time": "2019-05-07T14:40:53.072609Z",
     "start_time": "2019-05-07T14:40:53.069474Z"
    }
   },
   "outputs": [],
   "source": [
    "print(dec.Samplez2D.__dict__)\n",
    "dec.Samplez2D.cache.clear()"
   ]
  },
  {
   "cell_type": "code",
   "execution_count": null,
   "metadata": {
    "ExecuteTime": {
     "end_time": "2019-05-07T14:41:04.759940Z",
     "start_time": "2019-05-07T14:41:04.757474Z"
    }
   },
   "outputs": [],
   "source": [
    "print(dec.Samplez2Dt.__dict__)\n",
    "dec.Samplez2Dt.cache.clear()"
   ]
  },
  {
   "cell_type": "code",
   "execution_count": null,
   "metadata": {
    "ExecuteTime": {
     "end_time": "2019-05-07T14:34:46.177123Z",
     "start_time": "2019-05-07T14:34:46.171921Z"
    }
   },
   "outputs": [],
   "source": [
    "print(dec.FF.Memo)"
   ]
  },
  {
   "cell_type": "code",
   "execution_count": null,
   "metadata": {
    "ExecuteTime": {
     "end_time": "2019-05-07T14:34:37.624494Z",
     "start_time": "2019-05-07T14:34:37.620616Z"
    }
   },
   "outputs": [],
   "source": [
    "dec.FF.Memo = {}"
   ]
  },
  {
   "cell_type": "code",
   "execution_count": null,
   "metadata": {
    "ExecuteTime": {
     "end_time": "2019-05-02T13:45:30.336035Z",
     "start_time": "2019-05-02T13:45:30.333196Z"
    }
   },
   "outputs": [],
   "source": [
    "print(open('mprof0', 'r').read())"
   ]
  },
  {
   "cell_type": "raw",
   "metadata": {
    "ExecuteTime": {
     "end_time": "2019-04-26T13:50:20.350394Z",
     "start_time": "2019-04-26T13:50:20.337543Z"
    }
   },
   "source": [
    "reload(tools2D)\n",
    "reload(dec)"
   ]
  },
  {
   "cell_type": "raw",
   "metadata": {
    "ExecuteTime": {
     "end_time": "2019-04-26T13:57:14.620950Z",
     "start_time": "2019-04-26T13:56:47.195659Z"
    }
   },
   "source": [
    "d.unit='points'\n",
    "%callgraph S = tools2D.analysis(d,zoom,width1=1.0,width2=0.1, noisefactor=0.9)"
   ]
  },
  {
   "cell_type": "code",
   "execution_count": null,
   "metadata": {
    "ExecuteTime": {
     "end_time": "2019-04-30T11:36:35.455412Z",
     "start_time": "2019-04-30T11:36:35.452517Z"
    }
   },
   "outputs": [],
   "source": [
    "d.buffer.shape"
   ]
  },
  {
   "cell_type": "code",
   "execution_count": null,
   "metadata": {
    "ExecuteTime": {
     "end_time": "2019-04-30T11:36:36.013836Z",
     "start_time": "2019-04-30T11:36:36.009907Z"
    }
   },
   "outputs": [],
   "source": [
    "S.zone"
   ]
  },
  {
   "cell_type": "code",
   "execution_count": null,
   "metadata": {
    "ExecuteTime": {
     "end_time": "2019-04-30T11:36:36.950130Z",
     "start_time": "2019-04-30T11:36:36.947233Z"
    }
   },
   "outputs": [],
   "source": [
    "S.result.shape"
   ]
  },
  {
   "cell_type": "markdown",
   "metadata": {},
   "source": [
    "### Storing and retrieving the results"
   ]
  },
  {
   "cell_type": "code",
   "execution_count": null,
   "metadata": {
    "ExecuteTime": {
     "end_time": "2019-05-06T12:38:56.391848Z",
     "start_time": "2019-05-06T12:38:56.205178Z"
    }
   },
   "outputs": [],
   "source": [
    "tools2D.store(\"Results_{0}_{1}_{2}_{3}.h5\".format(*Tabl[N]),S.result)"
   ]
  },
  {
   "cell_type": "code",
   "execution_count": null,
   "metadata": {
    "ExecuteTime": {
     "end_time": "2019-05-06T12:38:56.871254Z",
     "start_time": "2019-05-06T12:38:56.788401Z"
    }
   },
   "outputs": [],
   "source": [
    "Solved = tools2D.read(\"Results_{0}_{1}_{2}_{3}.h5\".format(*Tabl[N]))\n",
    "Solved.shape"
   ]
  },
  {
   "cell_type": "markdown",
   "metadata": {},
   "source": [
    "### Displaying the results of deconvolution"
   ]
  },
  {
   "cell_type": "markdown",
   "metadata": {},
   "source": [
    "S is then a rich object containing a lot of information, including the results of deconvolution."
   ]
  },
  {
   "cell_type": "code",
   "execution_count": null,
   "metadata": {
    "ExecuteTime": {
     "end_time": "2019-05-15T09:44:05.356184Z",
     "start_time": "2019-05-15T09:44:02.067653Z"
    }
   },
   "outputs": [],
   "source": [
    "#S.spectrum contain the original part of spectrum\n",
    "X, Y = np.meshgrid(S.axeM1, S.axeM2)\n",
    "ax2 = plt.subplot(1,1,1, projection='3d')\n",
    "ax2.plot_surface(X,Y,S.spectrum.T, color='b', cmap=cm.coolwarm,  linewidth=0.05, cstride=2, rstride=2);"
   ]
  },
  {
   "cell_type": "code",
   "execution_count": null,
   "metadata": {
    "ExecuteTime": {
     "end_time": "2019-05-15T09:44:39.762512Z",
     "start_time": "2019-05-15T09:44:36.396700Z"
    }
   },
   "outputs": [],
   "source": [
    "#S.result contain the results of deconvolution. It is a 4D array as it contains information for all Z values requested.\n",
    "#Here Z = 1,2 for both axis.\n",
    "X, Y = np.meshgrid(S.axeM1, S.axeM2) \n",
    "ax = plt.subplot(1,1,1, projection='3d')   \n",
    "ax.plot_surface(X,Y,(S.result[1,0,:,:]).T, color='b', cmap=cm.coolwarm, linewidth=0.05, cstride=2, rstride=2, vmax=1E9);"
   ]
  },
  {
   "cell_type": "code",
   "execution_count": null,
   "metadata": {
    "ExecuteTime": {
     "end_time": "2019-05-15T09:44:51.294571Z",
     "start_time": "2019-05-15T09:44:48.088671Z"
    }
   },
   "outputs": [],
   "source": [
    "X, Y = np.meshgrid(S.axeM1, S.axeM2) \n",
    "ax = plt.subplot(1,1,1, projection='3d')   \n",
    "ax.plot_surface(X,Y,(S.result[0,0,:,:]).T, color='b', cmap=cm.coolwarm, linewidth=0.05, cstride=2, rstride=2, vmax=1E9);"
   ]
  },
  {
   "cell_type": "code",
   "execution_count": null,
   "metadata": {
    "ExecuteTime": {
     "end_time": "2019-05-15T09:45:02.746489Z",
     "start_time": "2019-05-15T09:44:59.186595Z"
    }
   },
   "outputs": [],
   "source": [
    "X, Y = np.meshgrid(S.axeM1, S.axeM2) \n",
    "ax = plt.subplot(1,1,1, projection='3d')   \n",
    "ax.plot_surface(X,Y,(S.result[0,1,:,:]).T, color='b', cmap=cm.coolwarm, linewidth=0.05, cstride=2, rstride=2, vmax=1E9);"
   ]
  },
  {
   "cell_type": "code",
   "execution_count": null,
   "metadata": {
    "ExecuteTime": {
     "end_time": "2019-05-15T09:45:14.284856Z",
     "start_time": "2019-05-15T09:45:10.806599Z"
    }
   },
   "outputs": [],
   "source": [
    "X, Y = np.meshgrid(S.axeM1, S.axeM2) \n",
    "ax = plt.subplot(1,1,1, projection='3d')   \n",
    "ax.plot_surface(X,Y,(S.result[1,1,:,:]).T, color='b', cmap=cm.coolwarm, linewidth=0.05, cstride=2, rstride=2, vmax=1E9);"
   ]
  },
  {
   "cell_type": "markdown",
   "metadata": {},
   "source": [
    "Here width values haven't been optimized, it should be as we see that the deconvolution is not perfect. See just bellow the convergence value sqrt(Khi2) that has been computed during the deconvolution process. It can be closest to 1 than that."
   ]
  },
  {
   "cell_type": "code",
   "execution_count": null,
   "metadata": {
    "ExecuteTime": {
     "end_time": "2019-05-15T09:45:21.267576Z",
     "start_time": "2019-05-15T09:45:21.264333Z"
    }
   },
   "outputs": [],
   "source": [
    "np.sqrt(S.Khi2) #represent the convergence (the closest to 1, the better)"
   ]
  },
  {
   "cell_type": "markdown",
   "metadata": {},
   "source": [
    "### Peak Picking\n",
    "\n",
    "The next step is to perform a peak picking on the deconvoluted data. WARN: As the pp() function is not finished, the list of peaks is performed only for one couple of Z values results - See the code of the function."
   ]
  },
  {
   "cell_type": "code",
   "execution_count": null,
   "metadata": {
    "ExecuteTime": {
     "end_time": "2019-04-30T11:43:40.262876Z",
     "start_time": "2019-04-30T11:43:40.069658Z"
    }
   },
   "outputs": [],
   "source": [
    "d.display(scale=5, zoom=zoom)"
   ]
  },
  {
   "cell_type": "code",
   "execution_count": null,
   "metadata": {
    "ExecuteTime": {
     "start_time": "2019-04-29T14:24:14.809Z"
    }
   },
   "outputs": [],
   "source": [
    "reload(spike)"
   ]
  },
  {
   "cell_type": "code",
   "execution_count": null,
   "metadata": {
    "ExecuteTime": {
     "end_time": "2019-05-27T14:24:25.733680Z",
     "start_time": "2019-05-27T14:24:25.730527Z"
    }
   },
   "outputs": [],
   "source": [
    "threshold = 2E6\n",
    "threshold"
   ]
  },
  {
   "cell_type": "code",
   "execution_count": null,
   "metadata": {
    "ExecuteTime": {
     "end_time": "2019-05-27T14:24:41.470386Z",
     "start_time": "2019-05-27T14:24:26.257222Z"
    }
   },
   "outputs": [],
   "source": [
    "d.pp(threshold=threshold, zoom=tools2D.mztoi(d,(400,700,300,1200)))"
   ]
  },
  {
   "cell_type": "raw",
   "metadata": {
    "ExecuteTime": {
     "end_time": "2019-05-27T14:24:41.732601Z",
     "start_time": "2019-05-27T14:24:41.502977Z"
    }
   },
   "source": [
    "from matplotlib import pyplot as plt\n",
    "d.unit = 'm/z'\n",
    "#d.display(scale=5, zoom=(620,700,300,1200))\n",
    "fig = plt.figure(figsize=(18,12))\n",
    "ax = fig.add_subplot(111)\n",
    "ax.set_xlabel('m/z')\n",
    "ax.set_ylabel('m/z')\n",
    "d.display_peaks(zoom=(400,700,300,1200),markersize=3)"
   ]
  },
  {
   "cell_type": "raw",
   "metadata": {
    "ExecuteTime": {
     "end_time": "2019-05-28T08:32:17.122185Z",
     "start_time": "2019-05-28T08:32:01.215572Z"
    }
   },
   "source": [
    "from matplotlib import pyplot as plt\n",
    "d.unit = 'm/z'\n",
    "fig = plt.figure(figsize=(18,12))\n",
    "ax = fig.add_subplot(111)\n",
    "ax.set_xlabel('m/z')\n",
    "ax.set_ylabel('m/z')\n",
    "d.display(scale=50, zoom=(400,700,300,1200), figure=ax)"
   ]
  },
  {
   "cell_type": "code",
   "execution_count": null,
   "metadata": {
    "ExecuteTime": {
     "end_time": "2019-05-27T11:12:10.118028Z",
     "start_time": "2019-05-27T11:12:10.112849Z"
    }
   },
   "outputs": [],
   "source": [
    "len(d.peaks)"
   ]
  },
  {
   "cell_type": "code",
   "execution_count": null,
   "metadata": {
    "ExecuteTime": {
     "start_time": "2019-04-29T14:24:15.552Z"
    }
   },
   "outputs": [],
   "source": [
    "reload(tools2D)"
   ]
  },
  {
   "cell_type": "code",
   "execution_count": null,
   "metadata": {
    "ExecuteTime": {
     "end_time": "2019-05-03T07:44:45.811405Z",
     "start_time": "2019-05-03T07:44:45.807222Z"
    }
   },
   "outputs": [],
   "source": [
    "import numpy"
   ]
  },
  {
   "cell_type": "code",
   "execution_count": null,
   "metadata": {
    "ExecuteTime": {
     "end_time": "2019-05-03T07:44:46.148576Z",
     "start_time": "2019-05-03T07:44:46.099886Z"
    }
   },
   "outputs": [],
   "source": [
    "#PeakPicking on deconvoluted\n",
    "threshold = 1E7\n",
    "listpkF1_00, listpkF2_00, listint_00 = tools2D.pp(S,0,0,threshold = threshold)\n",
    "print(\"00: \",listpkF1_00, listpkF2_00, listint_00,\"\\n\")\n",
    "listpkF1_11, listpkF2_11, listint_11 = tools2D.pp(S,1,1,threshold = threshold)\n",
    "print(\"11: \",listpkF1_11, listpkF2_11, listint_11,\"\\n\")\n",
    "listpkF1_10, listpkF2_10, listint_10 = tools2D.pp(S,1,0,threshold = threshold)\n",
    "print(\"10: \",listpkF1_10, listpkF2_10, listint_10,\"\\n\")\n",
    "listpkF1_01, listpkF2_01, listint_01 = tools2D.pp(S,0,1,threshold = threshold)\n",
    "print(\"01: \",listpkF1_01, listpkF2_01, listint_01,\"\\n\")"
   ]
  },
  {
   "cell_type": "code",
   "execution_count": null,
   "metadata": {
    "ExecuteTime": {
     "start_time": "2019-04-29T14:24:16.120Z"
    }
   },
   "outputs": [],
   "source": [
    "d.display(scale=1, zoom=zoom)\n",
    "d.display_peaks(zoom=zoom)"
   ]
  },
  {
   "cell_type": "code",
   "execution_count": null,
   "metadata": {
    "ExecuteTime": {
     "end_time": "2019-05-03T07:45:14.556832Z",
     "start_time": "2019-05-03T07:45:14.160771Z"
    }
   },
   "outputs": [],
   "source": [
    "d.display(scale=1, zoom=zoom)\n",
    "plt.plot(listpkF2_10, listpkF1_10,'xr')\n",
    "plt.plot(listpkF2_00, listpkF1_00,'+b')\n",
    "plt.plot(listpkF2_01, listpkF1_01,'xr')\n",
    "plt.plot(listpkF2_11, listpkF1_11,'+b')\n",
    "plt.show()"
   ]
  },
  {
   "cell_type": "code",
   "execution_count": null,
   "metadata": {
    "ExecuteTime": {
     "end_time": "2019-05-03T07:45:39.258710Z",
     "start_time": "2019-05-03T07:45:39.155968Z"
    }
   },
   "outputs": [],
   "source": [
    "#3D Representation of the points found ON DECONVOLUTION RESULT.\n",
    "fig = plt.figure()\n",
    "ax = fig.gca(projection='3d')\n",
    "ax.plot(listpkF1_00,listpkF2_00,listint_00,'xg')\n",
    "ax.plot(listpkF1_11,listpkF2_11,listint_11,'xy')\n",
    "ax.plot(listpkF1_10,listpkF2_10,listint_10,'xk')\n",
    "ax.plot(listpkF1_01,listpkF2_01,listint_01,'xr')\n",
    "plt.show()"
   ]
  },
  {
   "cell_type": "code",
   "execution_count": null,
   "metadata": {
    "ExecuteTime": {
     "end_time": "2019-05-03T07:45:42.899922Z",
     "start_time": "2019-05-03T07:45:42.548784Z"
    }
   },
   "outputs": [],
   "source": [
    "#PP Before deconvolution\n",
    "threshold=2E6\n",
    "x,y,z = d.peaks2d(threshold,zoom)\n",
    "plt.gca(projection='3d').plot(x,y,z,'+b')"
   ]
  },
  {
   "cell_type": "code",
   "execution_count": null,
   "metadata": {
    "ExecuteTime": {
     "end_time": "2019-05-03T07:46:24.805515Z",
     "start_time": "2019-05-03T07:45:56.232820Z"
    }
   },
   "outputs": [],
   "source": [
    "fig = plt.figure()\n",
    "ax = fig.gca(projection='3d')\n",
    "X, Y = np.meshgrid(S.axeM1, S.axeM2) \n",
    "ax.plot_surface(X,Y,(S.result[1,0,:,:]).T, color='b', cmap=cm.coolwarm, linewidth=0.05, cstride=2, rstride=2, vmax=1E9)\n",
    "ax.plot([d.axis1.itomz(p) for p in listpkF1_10],[d.axis2.itomz(p) for p in listpkF2_10],listint_10,'.r')\n",
    "plt.show()"
   ]
  },
  {
   "cell_type": "code",
   "execution_count": null,
   "metadata": {
    "ExecuteTime": {
     "end_time": "2019-05-03T07:46:53.501594Z",
     "start_time": "2019-05-03T07:46:24.937571Z"
    }
   },
   "outputs": [],
   "source": [
    "fig = plt.figure()\n",
    "ax = fig.gca(projection='3d')\n",
    "X, Y = np.meshgrid(S.axeM1, S.axeM2) \n",
    "ax.plot_surface(X,Y,(S.result[0,0,:,:]).T, color='b', cmap=cm.coolwarm, linewidth=0.05, cstride=2, rstride=2, vmax=1E9)\n",
    "ax.plot([d.axis1.itomz(p) for p in listpkF1_00],[d.axis2.itomz(p) for p in listpkF2_00],listint_00,'.c')\n",
    "plt.show()"
   ]
  },
  {
   "cell_type": "code",
   "execution_count": null,
   "metadata": {
    "ExecuteTime": {
     "end_time": "2019-05-03T07:49:24.483643Z",
     "start_time": "2019-05-03T07:49:24.180830Z"
    }
   },
   "outputs": [],
   "source": [
    "d.unit='m/z'\n",
    "d.display(zoom=tools2D.isz(d,zoom),scale = 5)\n",
    "plt.plot([d.axis2.itomz(p) for p in listpkF2_10],[d.axis1.itomz(p) for p in listpkF1_10], 'xr')\n",
    "plt.plot([d.axis2.itomz(p) for p in listpkF2_00],[d.axis1.itomz(p) for p in listpkF1_00], '+b')\n",
    "plt.plot([d.axis2.itomz(p) for p in listpkF2_11],[d.axis1.itomz(p) for p in listpkF1_11], '*k')\n",
    "plt.plot([d.axis2.itomz(p) for p in listpkF2_01],[d.axis1.itomz(p) for p in listpkF1_01], '.c')\n",
    "plt.xlabel(\"m/z\")\n",
    "plt.ylabel(\"m/z\")\n"
   ]
  },
  {
   "cell_type": "markdown",
   "metadata": {},
   "source": [
    "NB.: Resulting coordinates are in points, not in m/z."
   ]
  },
  {
   "cell_type": "code",
   "execution_count": null,
   "metadata": {
    "ExecuteTime": {
     "end_time": "2019-05-03T07:50:29.580043Z",
     "start_time": "2019-05-03T07:50:29.330817Z"
    }
   },
   "outputs": [],
   "source": [
    "listpkF1bis_10,listpkF2bis_10,listintbis_10,widthF1_10,widthF2_10 = tools2D.centroid2D_OnDeconvoluted(S,1,0,listpkF1_10, listpkF2_10, listint_10,npoints_F1=3, npoints_F2=3)"
   ]
  },
  {
   "cell_type": "code",
   "execution_count": null,
   "metadata": {
    "ExecuteTime": {
     "end_time": "2019-05-03T07:50:30.188449Z",
     "start_time": "2019-05-03T07:50:30.110500Z"
    }
   },
   "outputs": [],
   "source": [
    "listpkF1bis_00,listpkF2bis_00,listintbis_00,widthF1_00,widthF2_00 = tools2D.centroid2D_OnDeconvoluted(S,0,0,listpkF1_00, listpkF2_00, listint_00,npoints_F1=3, npoints_F2=3)"
   ]
  },
  {
   "cell_type": "code",
   "execution_count": null,
   "metadata": {
    "ExecuteTime": {
     "end_time": "2019-05-02T10:07:09.176635Z",
     "start_time": "2019-05-02T10:07:09.171279Z"
    }
   },
   "outputs": [],
   "source": [
    "len(listpkF2bis_10)"
   ]
  },
  {
   "cell_type": "code",
   "execution_count": null,
   "metadata": {
    "ExecuteTime": {
     "end_time": "2019-05-03T07:50:34.147311Z",
     "start_time": "2019-05-03T07:50:33.661164Z"
    }
   },
   "outputs": [],
   "source": [
    "d.unit='m/z'\n",
    "plt.figure()\n",
    "plt.plot([d.axis2.itomz(p) for p in listpkF2_10],[d.axis1.itomz(p) for p in listpkF1_10], 'xr') #Before centroid\n",
    "plt.plot([d.axis2.itomz(p) for p in y],[d.axis1.itomz(p) for p in x], 'xr') #PeakPicking before deconvolution\n",
    "plt.xlabel(\"m/z\")\n",
    "plt.ylabel(\"m/z\")\n",
    "plt.xlim(885,908)\n",
    "plt.ylim(535,595)\n",
    "plt.title(\"Peak Picking before deconvolution\")\n",
    "plt.figure()\n",
    "plt.plot([d.axis2.itomz(p) for p in listpkF2bis_10],[d.axis1.itomz(p) for p in listpkF1bis_10], '.g') #After centroid\n",
    "plt.xlabel(\"m/z\")\n",
    "plt.ylabel(\"m/z\")\n",
    "plt.xlim(885,908)\n",
    "plt.ylim(535,595)\n",
    "plt.title(\"Peak Picking on deconvolution results\")\n",
    "d.display(zoom=tools2D.isz(d,zoom),scale = .5) #Original Data\n"
   ]
  },
  {
   "cell_type": "code",
   "execution_count": null,
   "metadata": {
    "ExecuteTime": {
     "end_time": "2019-05-03T07:51:20.462279Z",
     "start_time": "2019-05-03T07:50:51.676476Z"
    }
   },
   "outputs": [],
   "source": [
    "fig = plt.figure()\n",
    "ax = fig.gca(projection='3d')\n",
    "X, Y = np.meshgrid(S.axeM1, S.axeM2) \n",
    "ax.plot_surface(X,Y,(S.result[1,0,:,:]).T, color='b', cmap=cm.coolwarm, linewidth=0.05, cstride=2, rstride=2, vmax=1E9)\n",
    "ax.plot([d.axis1.itomz(p) for p in listpkF1bis_10],[d.axis2.itomz(p) for p in listpkF2bis_10],listint_10,'.r')\n",
    "ax.plot([d.axis1.itomz(p) for p in listpkF1_10],[d.axis2.itomz(p) for p in listpkF2_10],listint_10,'xg')\n",
    "plt.show()"
   ]
  },
  {
   "cell_type": "code",
   "execution_count": null,
   "metadata": {
    "ExecuteTime": {
     "end_time": "2019-05-03T07:51:49.073759Z",
     "start_time": "2019-05-03T07:51:20.601137Z"
    }
   },
   "outputs": [],
   "source": [
    "fig = plt.figure()\n",
    "ax = fig.gca(projection='3d')\n",
    "X, Y = np.meshgrid(S.axeM1, S.axeM2) \n",
    "ax.plot_surface(X,Y,(S.result[0,0,:,:]).T, color='b', cmap=cm.coolwarm, linewidth=0.05, cstride=2, rstride=2, vmax=1E9)\n",
    "ax.plot([d.axis1.itomz(p) for p in listpkF1bis_00],[d.axis2.itomz(p) for p in listpkF2bis_00],listint_00,'.c')\n",
    "plt.show()"
   ]
  },
  {
   "cell_type": "markdown",
   "metadata": {},
   "source": [
    "Below are the masses of fragments and parents respectively"
   ]
  },
  {
   "cell_type": "markdown",
   "metadata": {},
   "source": [
    "## Deconvolution over multiple chunks (and the whole 2D)"
   ]
  },
  {
   "cell_type": "markdown",
   "metadata": {},
   "source": [
    "Use of the multi_analysis function - TO DO: ADJUST WIDTHS VALUES ACCORDING TO THE ZONE."
   ]
  },
  {
   "cell_type": "code",
   "execution_count": null,
   "metadata": {},
   "outputs": [],
   "source": [
    "reload(dec)\n",
    "reload(tools2D)"
   ]
  },
  {
   "cell_type": "code",
   "execution_count": null,
   "metadata": {
    "ExecuteTime": {
     "end_time": "2019-05-02T13:49:39.167846Z",
     "start_time": "2019-05-02T13:49:39.162101Z"
    }
   },
   "outputs": [],
   "source": [
    "%mprun?"
   ]
  },
  {
   "cell_type": "code",
   "execution_count": null,
   "metadata": {
    "ExecuteTime": {
     "end_time": "2019-05-02T14:17:20.038476Z",
     "start_time": "2019-05-02T13:55:30.264149Z"
    },
    "scrolled": true
   },
   "outputs": [],
   "source": [
    "%mprun -T mprof0 -r -c -f tools2D.multi_analysis(d,Tabl[5:6],iterations=100,width2=0.1)"
   ]
  },
  {
   "cell_type": "code",
   "execution_count": null,
   "metadata": {
    "ExecuteTime": {
     "end_time": "2019-05-02T14:17:24.128524Z",
     "start_time": "2019-05-02T14:17:24.121027Z"
    }
   },
   "outputs": [],
   "source": [
    "print(open('mprof0', 'r').read())"
   ]
  },
  {
   "cell_type": "code",
   "execution_count": null,
   "metadata": {
    "ExecuteTime": {
     "end_time": "2019-05-02T14:42:11.946956Z",
     "start_time": "2019-05-02T14:42:11.944981Z"
    }
   },
   "outputs": [],
   "source": [
    "del Tabl"
   ]
  },
  {
   "cell_type": "code",
   "execution_count": null,
   "metadata": {
    "ExecuteTime": {
     "end_time": "2019-05-02T11:53:44.133292Z",
     "start_time": "2019-05-02T11:53:44.121733Z"
    }
   },
   "outputs": [],
   "source": [
    "reload(dec)\n",
    "reload(tools2D)"
   ]
  },
  {
   "cell_type": "code",
   "execution_count": null,
   "metadata": {
    "ExecuteTime": {
     "end_time": "2019-05-02T12:15:33.692263Z",
     "start_time": "2019-05-02T11:53:45.274144Z"
    }
   },
   "outputs": [],
   "source": [
    "%time tools2D.multi_analysis(d, Tabl[5:6], iterations=100,width2=0.1)"
   ]
  },
  {
   "cell_type": "code",
   "execution_count": null,
   "metadata": {
    "ExecuteTime": {
     "end_time": "2019-05-02T14:17:44.957640Z",
     "start_time": "2019-05-02T14:17:44.951192Z"
    }
   },
   "outputs": [],
   "source": [
    "pk_21_f2 = []\n",
    "pk_21_f1 = []\n",
    "\n",
    "pk_11_f2 = []\n",
    "pk_11_f1 = []\n",
    "\n",
    "pk_22_f2 = []\n",
    "pk_22_f1 = []\n",
    "\n",
    "pk_12_f2 = []\n",
    "pk_12_f1 = []\n",
    "\n",
    "for key in d.pks:\n",
    "    if \"Z12_Z21\" in key:\n",
    "        for e in d.pks[key][3]: \n",
    "            pk_21_f1.append(e)\n",
    "        for e in d.pks[key][4]:\n",
    "            pk_21_f2.append(e)\n",
    "    if \"Z11_Z21\" in key:\n",
    "        for e in d.pks[key][3]: \n",
    "            pk_11_f1.append(e)\n",
    "        for e in d.pks[key][4]:\n",
    "            pk_11_f2.append(e)\n",
    "    if \"Z12_Z22\" in key:\n",
    "        for e in d.pks[key][3]: \n",
    "            pk_22_f1.append(e)\n",
    "        for e in d.pks[key][4]:\n",
    "            pk_22_f2.append(e)\n",
    "    if \"Z11_Z22\" in key:\n",
    "        for e in d.pks[key][3]: \n",
    "            pk_12_f1.append(e)\n",
    "        for e in d.pks[key][4]:\n",
    "            pk_12_f2.append(e)\n"
   ]
  },
  {
   "cell_type": "code",
   "execution_count": null,
   "metadata": {
    "ExecuteTime": {
     "end_time": "2019-05-02T14:19:53.297102Z",
     "start_time": "2019-05-02T14:19:53.282111Z"
    }
   },
   "outputs": [],
   "source": [
    "d.pks"
   ]
  },
  {
   "cell_type": "code",
   "execution_count": null,
   "metadata": {
    "ExecuteTime": {
     "end_time": "2019-05-02T14:21:18.826949Z",
     "start_time": "2019-05-02T14:21:18.449934Z"
    }
   },
   "outputs": [],
   "source": [
    "d.unit='m/z'\n",
    "fig = plt.figure(figsize=(18, 12))\n",
    "ax = fig.add_subplot(111)\n",
    "plt.plot(pk_21_f2,pk_21_f1,'xg')\n",
    "plt.plot(pk_11_f2,pk_11_f1,'.r')\n",
    "plt.plot(pk_12_f2,pk_12_f1,'.r')\n",
    "plt.plot(pk_22_f2,pk_22_f1,'.r')\n",
    "d.display(scale=1, zoom=tools2D.isz(d,(1652,2164,36000,38048)),figure=ax)"
   ]
  },
  {
   "cell_type": "code",
   "execution_count": null,
   "metadata": {
    "ExecuteTime": {
     "end_time": "2019-04-30T07:48:59.702165Z",
     "start_time": "2019-04-30T07:48:58.253334Z"
    }
   },
   "outputs": [],
   "source": [
    "DI = MR_interact(data_name,\n",
    "                report=False,   # inhibits parameter printing\n",
    "                show=False,     # does not display on start-up\n",
    "                figsize=(20,15),# Size of initial display (in cm)\n",
    "                Debug=False     # Enables live debugging if True\n",
    "               )\n",
    "DI._zoom = (400,700,137,1500)     # set the initial zoom view, in m/z (F1low , F1High , F2low , F2High)\n",
    "DI.scale = 5.0                      # set the initial scale\n",
    "DI.show()                           # and finally show"
   ]
  },
  {
   "cell_type": "code",
   "execution_count": null,
   "metadata": {
    "ExecuteTime": {
     "end_time": "2019-04-29T15:29:58.228455Z",
     "start_time": "2019-04-29T15:29:58.226001Z"
    }
   },
   "outputs": [],
   "source": [
    "print(tools2D.isz(d,Tabl[533]))"
   ]
  },
  {
   "cell_type": "code",
   "execution_count": null,
   "metadata": {
    "ExecuteTime": {
     "end_time": "2019-04-30T07:49:04.125496Z",
     "start_time": "2019-04-30T07:49:04.114510Z"
    }
   },
   "outputs": [],
   "source": [
    "plt.plot(pk_21_f2,pk_21_f1,'xg')\n",
    "plt.plot(pk_11_f2,pk_11_f1,'.r')\n",
    "plt.plot(pk_12_f2,pk_12_f1,'+b')\n",
    "plt.plot(pk_22_f2,pk_22_f1,'*k')"
   ]
  },
  {
   "cell_type": "code",
   "execution_count": null,
   "metadata": {
    "ExecuteTime": {
     "end_time": "2019-04-29T10:26:44.816367Z",
     "start_time": "2019-04-29T10:26:44.814022Z"
    }
   },
   "outputs": [],
   "source": [
    "d.unit='points'"
   ]
  },
  {
   "cell_type": "code",
   "execution_count": null,
   "metadata": {
    "ExecuteTime": {
     "end_time": "2019-04-29T14:07:49.768774Z",
     "start_time": "2019-04-29T14:07:49.688907Z"
    }
   },
   "outputs": [],
   "source": [
    "reload(dec)"
   ]
  },
  {
   "cell_type": "code",
   "execution_count": null,
   "metadata": {
    "ExecuteTime": {
     "end_time": "2019-04-29T10:39:22.830292Z",
     "start_time": "2019-04-29T10:38:43.232519Z"
    }
   },
   "outputs": [],
   "source": [
    "%time tools2D.multi_analysis(d, Tabl[602:605], iterations=100,width2=1.0)"
   ]
  },
  {
   "cell_type": "code",
   "execution_count": null,
   "metadata": {
    "ExecuteTime": {
     "end_time": "2019-04-29T10:40:18.066310Z",
     "start_time": "2019-04-29T10:40:18.058694Z"
    }
   },
   "outputs": [],
   "source": [
    "d.pks"
   ]
  },
  {
   "cell_type": "code",
   "execution_count": null,
   "metadata": {
    "ExecuteTime": {
     "end_time": "2019-04-29T10:40:22.208773Z",
     "start_time": "2019-04-29T10:40:22.206562Z"
    }
   },
   "outputs": [],
   "source": [
    "d.unit='m/z'"
   ]
  },
  {
   "cell_type": "code",
   "execution_count": null,
   "metadata": {
    "ExecuteTime": {
     "end_time": "2019-04-29T10:40:23.172570Z",
     "start_time": "2019-04-29T10:40:22.825884Z"
    }
   },
   "outputs": [],
   "source": [
    "N602_11 = d.pks[\"Peaks_Zone230425154871949743_Z11_Z21\"]\n",
    "N602_12 = d.pks[\"Peaks_Zone230425154871949743_Z11_Z22\"]\n",
    "N602_21 = d.pks[\"Peaks_Zone230425154871949743_Z12_Z21\"]\n",
    "N602_22 = d.pks[\"Peaks_Zone230425154871949743_Z12_Z22\"]\n",
    "fig, axs = plt.subplots(1, 4, figsize=(16, 4))\n",
    "axs[0] = plt.plot(N602_11[4],N602_11[3],'.r')\n",
    "#axs[0].set_title(\"Z: 1 1\")\n",
    "axs[1] = plt.plot(N602_12[4],N602_12[3],'.r')\n",
    "#axs[1].set_title(\"Z: 1 2\")\n",
    "axs[2] = plt.plot(N602_21[4],N602_21[3],'.r')\n",
    "#axs[2].set_title(\"Z: 2 1\")\n",
    "axs[3] = plt.plot(N602_22[4],N602_22[3],'.r')\n",
    "#axs[3].set_title(\"Z: 2 2\")"
   ]
  },
  {
   "cell_type": "code",
   "execution_count": null,
   "metadata": {
    "ExecuteTime": {
     "end_time": "2019-04-29T10:40:27.958675Z",
     "start_time": "2019-04-29T10:40:27.527175Z"
    }
   },
   "outputs": [],
   "source": [
    "N603_11 = d.pks[\"Peaks_Zone230425154974350767_Z11_Z21\"]\n",
    "N603_12 = d.pks[\"Peaks_Zone230425154974350767_Z11_Z22\"]\n",
    "N603_21 = d.pks[\"Peaks_Zone230425154974350767_Z12_Z21\"]\n",
    "N603_22 = d.pks[\"Peaks_Zone230425154974350767_Z12_Z22\"]\n",
    "fig, axs = plt.subplots(1, 4, figsize=(16, 4))\n",
    "axs[0] = plt.plot(N603_11[4],N603_11[3],'.r')\n",
    "#axs[0].set_title(\"Z: 1 1\")\n",
    "axs[1] = plt.plot(N603_12[4],N603_12[3],'.r')\n",
    "#axs[1].set_title(\"Z: 1 2\")\n",
    "axs[2] = plt.plot(N603_21[4],N603_21[3],'.r')\n",
    "#axs[2].set_title(\"Z: 2 1\")\n",
    "axs[3] = plt.plot(N603_22[4],N603_22[3],'.r')\n",
    "#axs[3].set_title(\"Z: 2 2\")"
   ]
  },
  {
   "cell_type": "code",
   "execution_count": null,
   "metadata": {
    "ExecuteTime": {
     "end_time": "2019-04-29T10:41:24.126253Z",
     "start_time": "2019-04-29T10:41:24.122247Z"
    }
   },
   "outputs": [],
   "source": [
    "print(N603_22[4],N603_22[3])"
   ]
  },
  {
   "cell_type": "code",
   "execution_count": null,
   "metadata": {
    "ExecuteTime": {
     "end_time": "2019-04-29T10:35:33.976555Z",
     "start_time": "2019-04-29T10:35:33.830729Z"
    }
   },
   "outputs": [],
   "source": [
    "d.unit='m/z'\n",
    "d.display(zoom=[530,540,765,775],scale = 1.)"
   ]
  },
  {
   "cell_type": "code",
   "execution_count": null,
   "metadata": {
    "ExecuteTime": {
     "end_time": "2019-04-29T10:42:23.385670Z",
     "start_time": "2019-04-29T10:42:23.382942Z"
    }
   },
   "outputs": [],
   "source": [
    "N602 = d.pks[\"Peaks_Zone230425154871949743_Z12_Z22\"]\n",
    "N603 = d.pks[\"Peaks_Zone230425154974350767_Z12_Z22\"]\n",
    "N604 = d.pks[\"Peaks_Zone230425155076751791_Z12_Z22\"]"
   ]
  },
  {
   "cell_type": "code",
   "execution_count": null,
   "metadata": {
    "ExecuteTime": {
     "end_time": "2019-04-29T10:42:27.439760Z",
     "start_time": "2019-04-29T10:42:27.311751Z"
    }
   },
   "outputs": [],
   "source": [
    "d.unit='m/z'\n",
    "fig = plt.figure()\n",
    "ax = fig.add_subplot(111)\n",
    "plt.plot(N602[4],N602[3],'.r')\n",
    "plt.plot(N603[4],N603[3],'.r')\n",
    "plt.plot(N604[4],N604[3],'.r')\n",
    "#d.display(zoom=[538,585,855,910],scale = 1., figure = ax)"
   ]
  },
  {
   "cell_type": "code",
   "execution_count": null,
   "metadata": {
    "ExecuteTime": {
     "end_time": "2019-05-07T15:09:48.599117Z",
     "start_time": "2019-05-07T15:09:48.596670Z"
    }
   },
   "outputs": [],
   "source": [
    "a = b = np.ones(100)"
   ]
  },
  {
   "cell_type": "code",
   "execution_count": null,
   "metadata": {
    "ExecuteTime": {
     "end_time": "2019-05-07T15:11:26.478490Z",
     "start_time": "2019-05-07T15:11:26.473529Z"
    }
   },
   "outputs": [],
   "source": [
    "a = {'a':123, 'b':'abc'}\n",
    "a"
   ]
  },
  {
   "cell_type": "code",
   "execution_count": null,
   "metadata": {
    "ExecuteTime": {
     "end_time": "2019-05-07T15:11:44.904553Z",
     "start_time": "2019-05-07T15:11:44.899833Z"
    }
   },
   "outputs": [],
   "source": [
    "a.clear()\n",
    "a"
   ]
  },
  {
   "cell_type": "code",
   "execution_count": null,
   "metadata": {},
   "outputs": [],
   "source": []
  }
 ],
 "metadata": {
  "kernelspec": {
   "display_name": "Python 3",
   "language": "python",
   "name": "python3"
  },
  "language_info": {
   "codemirror_mode": {
    "name": "ipython",
    "version": 3
   },
   "file_extension": ".py",
   "mimetype": "text/x-python",
   "name": "python",
   "nbconvert_exporter": "python",
   "pygments_lexer": "ipython3",
   "version": "3.7.3"
  },
  "toc": {
   "base_numbering": 1,
   "nav_menu": {},
   "number_sections": true,
   "sideBar": true,
   "skip_h1_title": false,
   "title_cell": "Table of Contents",
   "title_sidebar": "Contents",
   "toc_cell": true,
   "toc_position": {
    "height": "calc(100% - 180px)",
    "left": "10px",
    "top": "150px",
    "width": "187.988px"
   },
   "toc_section_display": true,
   "toc_window_display": true
  },
  "varInspector": {
   "cols": {
    "lenName": 16,
    "lenType": 16,
    "lenVar": 40
   },
   "kernels_config": {
    "python": {
     "delete_cmd_postfix": "",
     "delete_cmd_prefix": "del ",
     "library": "var_list.py",
     "varRefreshCmd": "print(var_dic_list())"
    },
    "r": {
     "delete_cmd_postfix": ") ",
     "delete_cmd_prefix": "rm(",
     "library": "var_list.r",
     "varRefreshCmd": "cat(var_dic_list()) "
    }
   },
   "position": {
    "height": "363px",
    "left": "869px",
    "right": "20px",
    "top": "120px",
    "width": "350px"
   },
   "types_to_exclude": [
    "module",
    "function",
    "builtin_function_or_method",
    "instance",
    "_Feature"
   ],
   "window_display": false
  }
 },
 "nbformat": 4,
 "nbformat_minor": 2
}
